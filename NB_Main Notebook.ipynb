{
 "cells": [
  {
   "cell_type": "code",
   "execution_count": null,
   "id": "54c64165-519d-4876-bab5-859a759e5965",
   "metadata": {},
   "outputs": [],
   "source": [
    "from FileConverter import FileConverter as FC\n",
    "import os, shutil\n",
    "import pandas as pd\n",
    "from random import randrange, uniform\n",
    "import random\n",
    "import datetime\n",
    "import numpy as np"
   ]
  },
  {
   "cell_type": "code",
   "execution_count": null,
   "id": "6ea21a7e-b4c8-47f7-8b45-35e98579305d",
   "metadata": {},
   "outputs": [],
   "source": [
    "# remove all previous generated files\n",
    "# try:\n",
    "#     if os.path.isdir('C:/Users/user/Python Projects/audio file converter/converted dataset/'):\n",
    "#         for folder in os.listdir('C:/Users/user/Python Projects/audio file converter/converted dataset/'):\n",
    "#             shutil.rmtree('C:/Users/user/Python Projects/audio file converter/converted dataset/' + folder)\n",
    "# except Exception as e:\n",
    "#     print(str(e))"
   ]
  },
  {
   "cell_type": "code",
   "execution_count": null,
   "id": "3cef04ed",
   "metadata": {},
   "outputs": [],
   "source": [
    "contents = ['Music', 'PhoneCall', 'Speech']\n",
    "formats = ['aac', 'aiff', 'flac', 'mp3_cbr', 'mp3_vbr', 'ogg', 'wav']\n",
    "base_addr = 'C:/Users/user/Python Projects/audio file converter/'\n",
    "ds_dir = base_addr + 'dataset/'\n",
    "number_of_converts = [4, 1, 1]"
   ]
  },
  {
   "cell_type": "markdown",
   "id": "92a5a35d",
   "metadata": {},
   "source": [
    "# Convert"
   ]
  },
  {
   "cell_type": "code",
   "execution_count": null,
   "id": "b6d8c35d",
   "metadata": {},
   "outputs": [],
   "source": [
    "ds_sub_folders = os.listdir(ds_dir)\n",
    "for content in ds_sub_folders: # Music, PhoneCall, Speech\n",
    "    content_dir = os.listdir(ds_dir + content) # full address of each content\n",
    "    content_idx = contents.index(content) # index of each content: Music=0, PhoneCall=1, Speech=2\n",
    "        \n",
    "    for file in content_dir: # files of each content\n",
    "        file_addrs = ds_dir + content + '/' + file # full address of each file of content\n",
    "        print(file_addrs, '-------------', datetime.datetime.now())\n",
    "        fc = FC(file_addrs, file, content)\n",
    "\n",
    "        configs_dir = os.listdir(base_addr + 'configs/' + content)\n",
    "        for config_file in configs_dir: # config_aac.csv, config_aiff.csv, ...\n",
    "            print(config_file, '--------------------------------')\n",
    "            format = config_file.replace('config_', '')\n",
    "            format = format.replace('.csv', '')\n",
    "\n",
    "            configs_list = pd.read_csv(base_addr + 'configs/' + content + '/' + config_file) # all configs of each format\n",
    "            \n",
    "            selected_configs = configs_list[:].sample(n=number_of_converts[content_idx])\n",
    "            for config_idx, config in selected_configs.iterrows():\n",
    "                # print(config_idx, '--', content, '--', config_file)\n",
    "                # print(file_addrs)\n",
    "                setting_array = ['-'+config.iloc[[0]].index[0], str(config.iloc[[0]].values[0]), \n",
    "                                 '-'+config.iloc[[1]].index[0], str(config.iloc[[1]].values[0]),\n",
    "                                 '-'+config.iloc[[2]].index[0], str(config.iloc[[2]].values[0])]\n",
    "                print(setting_array)\n",
    "                fc.convert(file_dir=file_addrs, format=format, setting_array=setting_array)\n",
    "        print('End of ', file_addrs, ' ---------------------')"
   ]
  }
 ],
 "metadata": {
  "kernelspec": {
   "display_name": "Python 3 (ipykernel)",
   "language": "python",
   "name": "python3"
  },
  "language_info": {
   "codemirror_mode": {
    "name": "ipython",
    "version": 3
   },
   "file_extension": ".py",
   "mimetype": "text/x-python",
   "name": "python",
   "nbconvert_exporter": "python",
   "pygments_lexer": "ipython3",
   "version": "3.9.7"
  }
 },
 "nbformat": 4,
 "nbformat_minor": 5
}
